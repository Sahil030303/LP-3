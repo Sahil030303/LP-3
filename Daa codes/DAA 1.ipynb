{
 "cells": [
  {
   "cell_type": "code",
   "execution_count": 3,
   "id": "9b5fd208",
   "metadata": {},
   "outputs": [
    {
     "name": "stdout",
     "output_type": "stream",
     "text": [
      "Enter the number of terms in the Fibonacci series: 20\n",
      "Fibonacci Series for the first 20 terms: [0, 1, 1, 2, 3, 5, 8, 13, 21, 34, 55, 89, 144, 233, 377, 610, 987, 1597, 2584, 4181]\n",
      "Step count: 20\n"
     ]
    }
   ],
   "source": [
    "def calculate_fibonacci_series(n):\n",
    "    a, b = 0, 1\n",
    "    step_count = 0\n",
    "    fibonacci_series = []\n",
    "\n",
    "    for i in range(n):\n",
    "        step_count += 1\n",
    "        fibonacci_series.append(a)\n",
    "        a, b = b, a + b\n",
    "\n",
    "    return fibonacci_series, step_count\n",
    "\n",
    "# Input from the user\n",
    "n = int(input(\"Enter the number of terms in the Fibonacci series: \"))\n",
    "\n",
    "# Calculate the Fibonacci series and step count\n",
    "fibonacci_series, step_count = calculate_fibonacci_series(n)\n",
    "\n",
    "print(f\"Fibonacci Series for the first {n} terms: {fibonacci_series}\")\n",
    "print(f\"Step count: {step_count}\")"
   ]
  }
 ],
 "metadata": {
  "kernelspec": {
   "display_name": "Python 3 (ipykernel)",
   "language": "python",
   "name": "python3"
  },
  "language_info": {
   "codemirror_mode": {
    "name": "ipython",
    "version": 3
   },
   "file_extension": ".py",
   "mimetype": "text/x-python",
   "name": "python",
   "nbconvert_exporter": "python",
   "pygments_lexer": "ipython3",
   "version": "3.9.13"
  }
 },
 "nbformat": 4,
 "nbformat_minor": 5
}
