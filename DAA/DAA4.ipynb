{
 "cells": [
  {
   "cell_type": "code",
   "execution_count": 1,
   "id": "e6d441ef",
   "metadata": {},
   "outputs": [
    {
     "name": "stdout",
     "output_type": "stream",
     "text": [
      "Maximum value in the knapsack: 220\n"
     ]
    }
   ],
   "source": [
    "#USING BRANCH AND BOUND\n",
    "\n",
    "class Item:\n",
    "    def __init__(self, weight, value):\n",
    "        self.weight = weight\n",
    "        self.value = value\n",
    "\n",
    "def knapsack_branch_and_bound(items, capacity):\n",
    "    def bound(i, weight, value):\n",
    "        if weight > capacity:\n",
    "            return 0\n",
    "        bound_value = value\n",
    "        j = i\n",
    "        total_weight = weight\n",
    "        while j < n and total_weight + items[j].weight <= capacity:\n",
    "            total_weight += items[j].weight\n",
    "            bound_value += items[j].value\n",
    "            j += 1\n",
    "        if j < n:\n",
    "            bound_value += (capacity - total_weight) * (items[j].value / items[j].weight)\n",
    "        return bound_value\n",
    "\n",
    "    def knapsack_recursive(i, weight, value):\n",
    "        nonlocal max_value\n",
    "        if weight <= capacity and value > max_value:\n",
    "            max_value = value\n",
    "        if i < n:\n",
    "            if weight + items[i].weight <= capacity:\n",
    "                knapsack_recursive(i + 1, weight + items[i].weight, value + items[i].value)\n",
    "            if bound(i + 1, weight, value) > max_value:\n",
    "                knapsack_recursive(i + 1, weight, value)\n",
    "\n",
    "    n = len(items)\n",
    "    max_value = 0\n",
    "    items.sort(key=lambda x: x.value / x.weight, reverse=True)\n",
    "    knapsack_recursive(0, 0, 0)\n",
    "    return max_value\n",
    "\n",
    "# Example usage\n",
    "if __name__ == \"__main__\":\n",
    "    items = [Item(10, 60), Item(20, 100), Item(30, 120)]\n",
    "    capacity = 50\n",
    "\n",
    "    max_value = knapsack_branch_and_bound(items, capacity)\n",
    "    print(\"Maximum value in the knapsack:\", max_value)\n"
   ]
  },
  {
   "cell_type": "code",
   "execution_count": 2,
   "id": "dede542b",
   "metadata": {},
   "outputs": [
    {
     "name": "stdout",
     "output_type": "stream",
     "text": [
      "Maximum value in the knapsack: 220\n",
      "Selected items: [1, 2]\n"
     ]
    }
   ],
   "source": [
    "#USING DYNAMIC PROGRAMMING\n",
    "def knapsack_dynamic_programming(values, weights, capacity):\n",
    "    n = len(values)\n",
    "    dp = [[0] * (capacity + 1) for _ in range(n + 1)]\n",
    "\n",
    "    for i in range(n + 1):\n",
    "        for w in range(capacity + 1):\n",
    "            if i == 0 or w == 0:\n",
    "                dp[i][w] = 0\n",
    "            elif weights[i - 1] <= w:\n",
    "                dp[i][w] = max(values[i - 1] + dp[i - 1][w - weights[i - 1]], dp[i - 1][w])\n",
    "            else:\n",
    "                dp[i][w] = dp[i - 1][w]\n",
    "\n",
    "    selected_items = []\n",
    "    i, w = n, capacity\n",
    "    while i > 0 and w > 0:\n",
    "        if dp[i][w] != dp[i - 1][w]:\n",
    "            selected_items.append(i - 1)\n",
    "            w -= weights[i - 1]\n",
    "        i -= 1\n",
    "\n",
    "    selected_items.reverse()\n",
    "    return dp[n][capacity], selected_items\n",
    "\n",
    "# Example usage\n",
    "if __name__ == \"__main__\":\n",
    "    values = [60, 100, 120]\n",
    "    weights = [10, 20, 30]\n",
    "    capacity = 50\n",
    "\n",
    "    max_value, selected_items = knapsack_dynamic_programming(values, weights, capacity)\n",
    "    print(\"Maximum value in the knapsack:\", max_value)\n",
    "    print(\"Selected items:\", selected_items)\n"
   ]
  }
 ],
 "metadata": {
  "kernelspec": {
   "display_name": "Python 3 (ipykernel)",
   "language": "python",
   "name": "python3"
  },
  "language_info": {
   "codemirror_mode": {
    "name": "ipython",
    "version": 3
   },
   "file_extension": ".py",
   "mimetype": "text/x-python",
   "name": "python",
   "nbconvert_exporter": "python",
   "pygments_lexer": "ipython3",
   "version": "3.9.13"
  }
 },
 "nbformat": 4,
 "nbformat_minor": 5
}
